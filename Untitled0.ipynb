{
  "nbformat": 4,
  "nbformat_minor": 0,
  "metadata": {
    "colab": {
      "provenance": [],
      "authorship_tag": "ABX9TyMbfAFWBuUaNs7k3axSPTAb",
      "include_colab_link": true
    },
    "kernelspec": {
      "name": "python3",
      "display_name": "Python 3"
    },
    "language_info": {
      "name": "python"
    }
  },
  "cells": [
    {
      "cell_type": "markdown",
      "metadata": {
        "id": "view-in-github",
        "colab_type": "text"
      },
      "source": [
        "<a href=\"https://colab.research.google.com/github/Daisydreams/Daisydreams/blob/main/Untitled0.ipynb\" target=\"_parent\"><img src=\"https://colab.research.google.com/assets/colab-badge.svg\" alt=\"Open In Colab\"/></a>"
      ]
    },
    {
      "cell_type": "code",
      "execution_count": 7,
      "metadata": {
        "id": "2wVWMWsdBrsp"
      },
      "outputs": [],
      "source": []
    },
    {
      "cell_type": "code",
      "source": [],
      "metadata": {
        "colab": {
          "base_uri": "https://localhost:8080/"
        },
        "id": "uSG0QMJrEK4V",
        "outputId": "07f749ad-ebfc-4ba5-c325-1da5badc7bf3"
      },
      "execution_count": 8,
      "outputs": [
        {
          "output_type": "stream",
          "name": "stdout",
          "text": [
            "[10000, 20000, 50000, 80000, 100000, 600000, 65000, 90000]\n",
            "['A', 'A', 'A', 'A', 'A', 'A', 'A', 'A']\n"
          ]
        }
      ]
    },
    {
      "cell_type": "code",
      "source": [],
      "metadata": {
        "id": "DowAIjurG2hT"
      },
      "execution_count": 9,
      "outputs": []
    },
    {
      "cell_type": "code",
      "source": [],
      "metadata": {
        "colab": {
          "base_uri": "https://localhost:8080/"
        },
        "id": "d5EfHBLSG600",
        "outputId": "13b6feef-3f00-4060-d049-4610204465aa"
      },
      "execution_count": 10,
      "outputs": [
        {
          "output_type": "stream",
          "name": "stdout",
          "text": [
            "[10000, 20000, 50000, 80000, 100000, 600000, 65000, 90000]\n",
            "['D', 'D', 'B', 'A', 'A', 'A', 'B', 'A']\n"
          ]
        }
      ]
    },
    {
      "cell_type": "code",
      "source": [],
      "metadata": {
        "id": "T61BKwpEHlF5"
      },
      "execution_count": null,
      "outputs": []
    },
    {
      "cell_type": "code",
      "source": [],
      "metadata": {
        "colab": {
          "base_uri": "https://localhost:8080/"
        },
        "id": "r3JvxOdaHp1i",
        "outputId": "0a64b8cd-c420-40bf-fc5e-ca13cd392f8e"
      },
      "execution_count": 11,
      "outputs": [
        {
          "output_type": "stream",
          "name": "stdout",
          "text": [
            "[10000, 20000, 50000, 80000, 100000, 600000, 65000, 90000]\n",
            "['D', 'D', 'B', 'A', 'A', 'A', 'B', 'A']\n"
          ]
        }
      ]
    },
    {
      "cell_type": "code",
      "source": [
        "def grade(sal):\n",
        "    if sal >= 70000:\n",
        "        return 'A'\n",
        "    elif sal >= 50000:\n",
        "        return 'B'\n",
        "    elif sal >= 30000:\n",
        "        return 'C'\n",
        "    return 'D'"
      ],
      "metadata": {
        "id": "lSHJ1DcgHnGL"
      },
      "execution_count": 12,
      "outputs": []
    },
    {
      "cell_type": "code",
      "source": [
        "sal=[10000,20000,50000,80000,100000,600000,65000,90000]\n",
        "grades= [grade(s) for s in sal]\n",
        "print(sal)\n",
        "print(grades)"
      ],
      "metadata": {
        "colab": {
          "base_uri": "https://localhost:8080/"
        },
        "id": "VoY7_lGjIyby",
        "outputId": "90310404-27bb-4251-83c9-2da45ce88625"
      },
      "execution_count": 13,
      "outputs": [
        {
          "output_type": "stream",
          "name": "stdout",
          "text": [
            "[10000, 20000, 50000, 80000, 100000, 600000, 65000, 90000]\n",
            "['D', 'D', 'B', 'A', 'A', 'A', 'B', 'A']\n"
          ]
        }
      ]
    },
    {
      "cell_type": "code",
      "source": [
        "def dept(d):\n",
        "  if d==\"11\":\n",
        "    dname=\"marketing\"\n",
        "  elif d==\"12\":\n",
        "    dname=\"HR\"\n",
        "  elif d==\"13\":\n",
        "    dname=\"FInance\"\n",
        "  else:\n",
        "    return \"other\""
      ],
      "metadata": {
        "id": "bqzrEIg_LVnn"
      },
      "execution_count": 18,
      "outputs": []
    },
    {
      "cell_type": "code",
      "source": [
        "dno=[11,12,13,14,11,11,12,13,12]\n",
        "dnames=[dept(v) for v in dno]\n",
        "print(dno)\n",
        "print(dnames)"
      ],
      "metadata": {
        "colab": {
          "base_uri": "https://localhost:8080/"
        },
        "id": "q_UIWgMyL45t",
        "outputId": "c65158a5-2bec-42f1-bd11-e1e6675090c2"
      },
      "execution_count": 19,
      "outputs": [
        {
          "output_type": "stream",
          "name": "stdout",
          "text": [
            "[11, 12, 13, 14, 11, 11, 12, 13, 12]\n",
            "['other', 'other', 'other', 'other', 'other', 'other', 'other', 'other', 'other']\n"
          ]
        }
      ]
    },
    {
      "cell_type": "code",
      "source": [
        "def dept(d):\n",
        "    if d == 11:\n",
        "        return \"marketing\"\n",
        "    elif d == 12:\n",
        "        return \"HR\"\n",
        "    elif d == 13:\n",
        "        return \"Finance\"\n",
        "    else:\n",
        "        return \"other\"\n",
        "\n",
        "dno = [11, 12, 13, 14, 11, 11, 12, 13, 12]\n",
        "dnames = [dept(v) for v in dno]\n",
        "\n",
        "print(dno)\n",
        "print(dnames)"
      ],
      "metadata": {
        "colab": {
          "base_uri": "https://localhost:8080/"
        },
        "id": "Zu8AvyFBNVB2",
        "outputId": "d53515ba-6443-4f11-d6a5-07a0ae3a094a"
      },
      "execution_count": 20,
      "outputs": [
        {
          "output_type": "stream",
          "name": "stdout",
          "text": [
            "[11, 12, 13, 14, 11, 11, 12, 13, 12]\n",
            "['marketing', 'HR', 'Finance', 'other', 'marketing', 'marketing', 'HR', 'Finance', 'HR']\n"
          ]
        }
      ]
    },
    {
      "cell_type": "code",
      "source": [
        "tax=[v*0.1 for v in sal]\n",
        "hra=[v*0.2 for v in sal]\n",
        "print(sal)\n",
        "print(dnames)\n",
        "print(dno)\n",
        "\n",
        "print(tax)\n",
        "print(hra)\n"
      ],
      "metadata": {
        "colab": {
          "base_uri": "https://localhost:8080/",
          "height": 245
        },
        "id": "LYBhtV70Nbxx",
        "outputId": "3df9714d-b5d7-4967-be3f-d50cd0971f46"
      },
      "execution_count": 5,
      "outputs": [
        {
          "output_type": "error",
          "ename": "NameError",
          "evalue": "ignored",
          "traceback": [
            "\u001b[0;31m---------------------------------------------------------------------------\u001b[0m",
            "\u001b[0;31mNameError\u001b[0m                                 Traceback (most recent call last)",
            "\u001b[0;32m<ipython-input-5-0a6deb46242b>\u001b[0m in \u001b[0;36m<cell line: 1>\u001b[0;34m()\u001b[0m\n\u001b[0;32m----> 1\u001b[0;31m \u001b[0mtax\u001b[0m\u001b[0;34m=\u001b[0m\u001b[0;34m[\u001b[0m\u001b[0mv\u001b[0m\u001b[0;34m*\u001b[0m\u001b[0;36m0.1\u001b[0m \u001b[0;32mfor\u001b[0m \u001b[0mv\u001b[0m \u001b[0;32min\u001b[0m \u001b[0msal\u001b[0m\u001b[0;34m]\u001b[0m\u001b[0;34m\u001b[0m\u001b[0;34m\u001b[0m\u001b[0m\n\u001b[0m\u001b[1;32m      2\u001b[0m \u001b[0mhra\u001b[0m\u001b[0;34m=\u001b[0m\u001b[0;34m[\u001b[0m\u001b[0mv\u001b[0m\u001b[0;34m*\u001b[0m\u001b[0;36m0.2\u001b[0m \u001b[0;32mfor\u001b[0m \u001b[0mv\u001b[0m \u001b[0;32min\u001b[0m \u001b[0msal\u001b[0m\u001b[0;34m]\u001b[0m\u001b[0;34m\u001b[0m\u001b[0;34m\u001b[0m\u001b[0m\n\u001b[1;32m      3\u001b[0m \u001b[0mprint\u001b[0m\u001b[0;34m(\u001b[0m\u001b[0msal\u001b[0m\u001b[0;34m)\u001b[0m\u001b[0;34m\u001b[0m\u001b[0;34m\u001b[0m\u001b[0m\n\u001b[1;32m      4\u001b[0m \u001b[0mprint\u001b[0m\u001b[0;34m(\u001b[0m\u001b[0mdnames\u001b[0m\u001b[0;34m)\u001b[0m\u001b[0;34m\u001b[0m\u001b[0;34m\u001b[0m\u001b[0m\n\u001b[1;32m      5\u001b[0m \u001b[0mprint\u001b[0m\u001b[0;34m(\u001b[0m\u001b[0mdno\u001b[0m\u001b[0;34m)\u001b[0m\u001b[0;34m\u001b[0m\u001b[0;34m\u001b[0m\u001b[0m\n",
            "\u001b[0;31mNameError\u001b[0m: name 'sal' is not defined"
          ]
        }
      ]
    },
    {
      "cell_type": "code",
      "source": [
        "\n",
        "def grade(sal):\n",
        "    if sal >= 70000:\n",
        "        return 'A'\n",
        "    elif sal >= 50000:\n",
        "        return 'B'\n",
        "    elif sal >= 30000:\n",
        "        return 'C'\n",
        "    return 'D'\n",
        "sal=[10000,20000,50000,80000,100000,600000,65000,90000]\n",
        "grades= [grade(s) for s in sal]\n",
        "tax=[s*0.1 for s in sal]\n",
        "hra=[s*0.2 for s in sal]\n",
        "print(sal)\n",
        "\n",
        "print(tax)\n",
        "print(hra)\n",
        "print(grades)\n"
      ],
      "metadata": {
        "colab": {
          "base_uri": "https://localhost:8080/",
          "height": 262
        },
        "id": "O2_nH0thzbsX",
        "outputId": "738992c3-c71f-4b79-d898-ef3741b39d16"
      },
      "execution_count": 8,
      "outputs": [
        {
          "output_type": "stream",
          "name": "stdout",
          "text": [
            "[10000, 20000, 50000, 80000, 100000, 600000, 65000, 90000]\n"
          ]
        },
        {
          "output_type": "error",
          "ename": "NameError",
          "evalue": "ignored",
          "traceback": [
            "\u001b[0;31m---------------------------------------------------------------------------\u001b[0m",
            "\u001b[0;31mNameError\u001b[0m                                 Traceback (most recent call last)",
            "\u001b[0;32m<ipython-input-8-8f0005fd5f5a>\u001b[0m in \u001b[0;36m<cell line: 14>\u001b[0;34m()\u001b[0m\n\u001b[1;32m     12\u001b[0m \u001b[0mhra\u001b[0m\u001b[0;34m=\u001b[0m\u001b[0;34m[\u001b[0m\u001b[0ms\u001b[0m\u001b[0;34m*\u001b[0m\u001b[0;36m0.2\u001b[0m \u001b[0;32mfor\u001b[0m \u001b[0ms\u001b[0m \u001b[0;32min\u001b[0m \u001b[0msal\u001b[0m\u001b[0;34m]\u001b[0m\u001b[0;34m\u001b[0m\u001b[0;34m\u001b[0m\u001b[0m\n\u001b[1;32m     13\u001b[0m \u001b[0mprint\u001b[0m\u001b[0;34m(\u001b[0m\u001b[0msal\u001b[0m\u001b[0;34m)\u001b[0m\u001b[0;34m\u001b[0m\u001b[0;34m\u001b[0m\u001b[0m\n\u001b[0;32m---> 14\u001b[0;31m \u001b[0mprint\u001b[0m\u001b[0;34m(\u001b[0m\u001b[0mdnames\u001b[0m\u001b[0;34m)\u001b[0m\u001b[0;34m\u001b[0m\u001b[0;34m\u001b[0m\u001b[0m\n\u001b[0m\u001b[1;32m     15\u001b[0m \u001b[0mprint\u001b[0m\u001b[0;34m(\u001b[0m\u001b[0mdno\u001b[0m\u001b[0;34m)\u001b[0m\u001b[0;34m\u001b[0m\u001b[0;34m\u001b[0m\u001b[0m\n\u001b[1;32m     16\u001b[0m \u001b[0mprint\u001b[0m\u001b[0;34m(\u001b[0m\u001b[0mtax\u001b[0m\u001b[0;34m)\u001b[0m\u001b[0;34m\u001b[0m\u001b[0;34m\u001b[0m\u001b[0m\n",
            "\u001b[0;31mNameError\u001b[0m: name 'dnames' is not defined"
          ]
        }
      ]
    },
    {
      "cell_type": "code",
      "source": [
        "def grade(sal):\n",
        "    if sal >= 70000:\n",
        "        return 'A'\n",
        "    elif sal >= 50000:\n",
        "        return 'B'\n",
        "    elif sal >= 30000:\n",
        "        return 'C'\n",
        "    return 'D'\n",
        "\n",
        "sal = [10000, 20000, 50000, 80000, 100000, 600000, 65000, 90000]\n",
        "grades = [grade(s) for s in sal]\n",
        "tax = [s*0.1 for s in sal]\n",
        "hra = [s*0.2 for s in sal]\n",
        "\n",
        "\n",
        "def dept(d):\n",
        "    if d == 11:\n",
        "        return \"marketing\"\n",
        "    elif d == 12:\n",
        "        return \"HR\"\n",
        "    elif d == 13:\n",
        "        return \"Finance\"\n",
        "    else:\n",
        "        return \"other\"\n",
        "\n",
        "dno = [11, 12, 13, 14, 11, 11, 12, 13, 12]\n",
        "dnames = [dept(v) for v in dno]\n",
        "\n",
        "\n",
        "for v in list(zip(dnames, sal, tax, hra, grades, dno)):\n",
        "    print(v)\n",
        "list(zip(dnames, sal, tax, hra, grades, dno))\n",
        "net=[s+h-t for s,t,h in list(zip(sal,tax,hra))]\n",
        "print(\"_\"*500)\n",
        "print(\"_\"*500)\n",
        "\n",
        "list(zip(dnames, sal, tax, hra, grades, dno,net))\n",
        "\n",
        "\n",
        "\n",
        "\n",
        "\n",
        "\n"
      ],
      "metadata": {
        "colab": {
          "base_uri": "https://localhost:8080/"
        },
        "id": "ppYTp9bf-p8u",
        "outputId": "79a07586-83c4-4701-c7df-e06e1077fed7"
      },
      "execution_count": 26,
      "outputs": [
        {
          "output_type": "stream",
          "name": "stdout",
          "text": [
            "('marketing', 10000, 1000.0, 2000.0, 'D', 11)\n",
            "('HR', 20000, 2000.0, 4000.0, 'D', 12)\n",
            "('Finance', 50000, 5000.0, 10000.0, 'B', 13)\n",
            "('other', 80000, 8000.0, 16000.0, 'A', 14)\n",
            "('marketing', 100000, 10000.0, 20000.0, 'A', 11)\n",
            "('marketing', 600000, 60000.0, 120000.0, 'A', 11)\n",
            "('HR', 65000, 6500.0, 13000.0, 'B', 12)\n",
            "('Finance', 90000, 9000.0, 18000.0, 'A', 13)\n",
            "____________________________________________________________________________________________________________________________________________________________________________________________________________________________________________________________________________________________________________________________________________________________________________________________________________________________________________________________________________________________________________________\n",
            "____________________________________________________________________________________________________________________________________________________________________________________________________________________________________________________________________________________________________________________________________________________________________________________________________________________________________________________________________________________________________________________\n"
          ]
        },
        {
          "output_type": "execute_result",
          "data": {
            "text/plain": [
              "[('marketing', 10000, 1000.0, 2000.0, 'D', 11, 11000.0),\n",
              " ('HR', 20000, 2000.0, 4000.0, 'D', 12, 22000.0),\n",
              " ('Finance', 50000, 5000.0, 10000.0, 'B', 13, 55000.0),\n",
              " ('other', 80000, 8000.0, 16000.0, 'A', 14, 88000.0),\n",
              " ('marketing', 100000, 10000.0, 20000.0, 'A', 11, 110000.0),\n",
              " ('marketing', 600000, 60000.0, 120000.0, 'A', 11, 660000.0),\n",
              " ('HR', 65000, 6500.0, 13000.0, 'B', 12, 71500.0),\n",
              " ('Finance', 90000, 9000.0, 18000.0, 'A', 13, 99000.0)]"
            ]
          },
          "metadata": {},
          "execution_count": 26
        }
      ]
    },
    {
      "cell_type": "code",
      "source": [
        "*print(\"_\"*40)\n"
      ],
      "metadata": {
        "colab": {
          "base_uri": "https://localhost:8080/"
        },
        "id": "MQfXLSoaMZ3j",
        "outputId": "f4d7db78-2b9f-4a2f-b7a5-d9a27b9afc6d"
      },
      "execution_count": 23,
      "outputs": [
        {
          "output_type": "stream",
          "name": "stdout",
          "text": [
            "________________________________________\n"
          ]
        }
      ]
    },
    {
      "cell_type": "code",
      "source": [
        "age=[12,23,32,34,45,65,54,56,9,1]\n",
        "nage=[]\n",
        "for v in age:\n",
        "  if v>=30:\n",
        "    nage.append(v)\n",
        "print(nage)"
      ],
      "metadata": {
        "colab": {
          "base_uri": "https://localhost:8080/"
        },
        "id": "h7alMgo4nVRK",
        "outputId": "48aee7ed-620e-46b0-9623-4731909b29e1"
      },
      "execution_count": 1,
      "outputs": [
        {
          "output_type": "stream",
          "name": "stdout",
          "text": [
            "[32, 34, 45, 65, 54, 56]\n"
          ]
        }
      ]
    },
    {
      "cell_type": "code",
      "source": [
        "age=[12,23,32,34,45,65,54,56,9,1]\n",
        "nage=[v for v in age if v>=30]\n",
        "print(nage)"
      ],
      "metadata": {
        "colab": {
          "base_uri": "https://localhost:8080/"
        },
        "id": "q0PW8VCen43f",
        "outputId": "eb9716ce-acbe-4845-bd6b-045700f762c2"
      },
      "execution_count": 3,
      "outputs": [
        {
          "output_type": "stream",
          "name": "stdout",
          "text": [
            "[32, 34, 45, 65, 54, 56]\n"
          ]
        }
      ]
    },
    {
      "cell_type": "code",
      "source": [
        "\"\"\" name=['a','b','c','d','e']\n",
        "sal=[40000,50000,10000,80000,20000]\n",
        "dno=[11,12,13,13,14]\n",
        "sex=['m','f','f','m','m' ]\"\"\"\n",
        "def grade(sa):\n",
        "  if sa >= 50000:\n",
        "     return 'A'\n",
        "  elif sa >=20000:\n",
        "     return 'B'\n",
        "  elif sa >=10000:\n",
        "     return 'C'\n",
        "  return 'D'\n",
        "name=['a','b','c','d','e']\n",
        "sal=[40000,50000,10000,80000,20000]\n",
        "dno=[11,12,13,13,14]\n",
        "sex=['m','f','f','m','m' ]\n",
        "temp = [v for v in list(zip(name,sal,dno,sex,[grade(sa) for sa in sal]\n",
        "))]\n",
        "print(temp)\n",
        "def gend(x):\n",
        "  if x.lower()==\"f\":\n",
        "     return \"Female\"\n",
        "  else:\n",
        "     return \"Male\"\n",
        "gender=[gend(x) for x in sex]\n",
        "print(gender)\n",
        "temp = [v for v in list(zip(name,sal,dno,sex,[grade(sa) for sa in sal],[gend(x) for x in sex]\n",
        "))]\n",
        "print(temp)\n",
        "def dept(d):\n",
        "    if d == 11:\n",
        "        return \"marketing\"\n",
        "    elif d == 12:\n",
        "        return \"HR\"\n",
        "    elif d == 13:\n",
        "        return \"Finance\"\n",
        "    else:\n",
        "        return \"other\"\n",
        "depno=[dept(d) for d in dno]\n",
        "print(depno)\n",
        "temp = [v for v in list(zip(name,sal,dno,sex,[grade(sa) for sa in sal],[gend(x) for x in sex],[dept(d) for d in dno]\n",
        "))]\n",
        "print(temp)\n",
        "#apply the filter in temp\n",
        "fems=[v for v in temp if v[-2]==\"Female\"]\n",
        "print(fems)\n",
        "\n",
        "\n"
      ],
      "metadata": {
        "colab": {
          "base_uri": "https://localhost:8080/"
        },
        "id": "emHNwlXva_9V",
        "outputId": "fff74eca-6899-4bf0-bdd0-b2646b104a64"
      },
      "execution_count": 3,
      "outputs": [
        {
          "output_type": "stream",
          "name": "stdout",
          "text": [
            "[('a', 40000, 11, 'm', 'B'), ('b', 50000, 12, 'f', 'A'), ('c', 10000, 13, 'f', 'C'), ('d', 80000, 13, 'm', 'A'), ('e', 20000, 14, 'm', 'B')]\n",
            "['Male', 'Female', 'Female', 'Male', 'Male']\n",
            "[('a', 40000, 11, 'm', 'B', 'Male'), ('b', 50000, 12, 'f', 'A', 'Female'), ('c', 10000, 13, 'f', 'C', 'Female'), ('d', 80000, 13, 'm', 'A', 'Male'), ('e', 20000, 14, 'm', 'B', 'Male')]\n",
            "['marketing', 'HR', 'Finance', 'Finance', 'other']\n",
            "[('a', 40000, 11, 'm', 'B', 'Male', 'marketing'), ('b', 50000, 12, 'f', 'A', 'Female', 'HR'), ('c', 10000, 13, 'f', 'C', 'Female', 'Finance'), ('d', 80000, 13, 'm', 'A', 'Male', 'Finance'), ('e', 20000, 14, 'm', 'B', 'Male', 'other')]\n",
            "[('b', 50000, 12, 'f', 'A', 'Female', 'HR'), ('c', 10000, 13, 'f', 'C', 'Female', 'Finance')]\n"
          ]
        }
      ]
    },
    {
      "cell_type": "code",
      "source": [
        "a=[[1,2,3],[2,3,4],[5,6,7]]\n",
        "n=0\n",
        "for v in a:\n",
        "  n+=len(v)\n",
        "print(n)\n"
      ],
      "metadata": {
        "colab": {
          "base_uri": "https://localhost:8080/"
        },
        "id": "T0RDjek87D6R",
        "outputId": "f61d66f1-bb1f-48f3-8247-25a80ac6ae2d"
      },
      "execution_count": 4,
      "outputs": [
        {
          "output_type": "stream",
          "name": "stdout",
          "text": [
            "9\n"
          ]
        }
      ]
    },
    {
      "cell_type": "code",
      "source": [
        "acc={101:10000,102:40000,103:5000}\n",
        "acc[101]+=10000\n",
        "acc[102]-=5000\n",
        "acc[104]=25000\n",
        "print(acc)\n",
        "\"\"\"usecase-1: if any user has account then check for mode he wants withdraw or insert, balance check,deposit\"\"\"\n",
        "acc={}\n",
        "acno=105\n",
        "mode=\"i\"\n",
        "amt=65000\n",
        "if acc.get(acno)!=None:\n",
        "      if mode ==\"w\" :\n",
        "           if amt<=acc[acno]:\n",
        "               acc[acno]-=amt\n",
        "           else:\n",
        "               print(\"Insufficient Balance\")\n",
        "      elif mode ==\"d\":\n",
        "          acc[acno]+=amt\n",
        "      elif mode ==\"b\":\n",
        "          print(\"Balance Amount: \",acc[acno])\n",
        "      else:\n",
        "          print(\"Invalid option\")\n",
        "elif mode == \"i\":\n",
        "    if acno not in acc:\n",
        "        acc[acno] = amt\n",
        "else:\n",
        "     print(\"Invalid option\")\n",
        "\n",
        "\n",
        "\n",
        "\n"
      ],
      "metadata": {
        "colab": {
          "base_uri": "https://localhost:8080/"
        },
        "id": "EGWMlCtvJEGm",
        "outputId": "c525e712-ab3c-4c5b-d98b-3d4db193959c"
      },
      "execution_count": 25,
      "outputs": [
        {
          "output_type": "stream",
          "name": "stdout",
          "text": [
            "{101: 20000, 102: 35000, 103: 5000, 104: 25000}\n"
          ]
        }
      ]
    },
    {
      "cell_type": "code",
      "source": [
        "sex=['m','m','f','f','f','m','m','m']\n",
        "print(len(sex))\n",
        "freq={}\n",
        "for v in sex:\n",
        "  if freq.get(v)==None:     # in the first iteration v value is m\n",
        "      freq[v]=1              #male as key and 1 as value that entered\n",
        "  else:\n",
        "      freq[v]+=1\n",
        "print(freq)\n",
        "freq.keys()\n",
        "freq.values()\n",
        "list(zip(freq.keys(),freq.values()))\n"
      ],
      "metadata": {
        "colab": {
          "base_uri": "https://localhost:8080/"
        },
        "id": "q-D7KxmUo4J6",
        "outputId": "ab8b8663-fd52-4fe9-bff4-5b7468bf765c"
      },
      "execution_count": 6,
      "outputs": [
        {
          "output_type": "stream",
          "name": "stdout",
          "text": [
            "8\n",
            "{'m': 5, 'f': 3}\n"
          ]
        },
        {
          "output_type": "execute_result",
          "data": {
            "text/plain": [
              "[('m', 5), ('f', 3)]"
            ]
          },
          "metadata": {},
          "execution_count": 6
        }
      ]
    },
    {
      "cell_type": "code",
      "source": [
        "# converting the above program in to object oriented programing\n",
        "class PeopleGroup:\n",
        "    def __init__(self, genders):\n",
        "        self.genders = genders\n",
        "        self.freq = self.calculate_frequency()\n",
        "\n",
        "    def calculate_frequency(self):\n",
        "        freq = {}\n",
        "        for gender in self.genders:\n",
        "            if gender in freq:\n",
        "                freq[gender] += 1\n",
        "            else:\n",
        "                freq[gender] = 1\n",
        "        return freq\n",
        "\n",
        "    def display_frequency(self):\n",
        "        for gender, count in self.freq.items():\n",
        "            print(f\"{gender}: {count}\")\n",
        "\n",
        "    def get_keys(self):\n",
        "        return self.freq.keys()\n",
        "\n",
        "    def get_values(self):\n",
        "        return self.freq.values()\n",
        "\n",
        "    def as_list_of_tuples(self):\n",
        "        return list(zip(self.freq.keys(), self.freq.values()))\n",
        "\n",
        "# Example usage:\n",
        "group = PeopleGroup(['m', 'f', 'f', 'f', 'm', 'm', 'm'])\n",
        "group.display_frequency()\n",
        "print(group.as_list_of_tuples())\n"
      ],
      "metadata": {
        "colab": {
          "base_uri": "https://localhost:8080/"
        },
        "id": "t5LOp0uMdfHS",
        "outputId": "544a7e7e-b198-459f-e3ea-fcfd1d34ca9f"
      },
      "execution_count": 1,
      "outputs": [
        {
          "output_type": "stream",
          "name": "stdout",
          "text": [
            "m: 4\n",
            "f: 3\n",
            "[('m', 4), ('f', 3)]\n"
          ]
        }
      ]
    },
    {
      "cell_type": "code",
      "source": [
        "# again converting in to scripts\n",
        "# List of genders\n",
        "sex = ['m', 'f', 'f', 'f', 'm', 'm', 'm']\n",
        "\n",
        "# Calculate the frequency of each gender\n",
        "def calculate_frequency(genders):\n",
        "    freq = {}\n",
        "    for gender in genders:\n",
        "        if gender in freq:\n",
        "            freq[gender] += 1\n",
        "        else:\n",
        "            freq[gender] = 1\n",
        "    return freq\n",
        "\n",
        "# Display the frequency\n",
        "def display_frequency(freq):\n",
        "    for gender, count in freq.items():\n",
        "        print(f\"{gender}: {count}\")\n",
        "\n",
        "# Convert the frequency dictionary to a list of tuples\n",
        "def as_list_of_tuples(freq):\n",
        "    return list(zip(freq.keys(), freq.values()))\n",
        "\n",
        "# Call functions to perform actions\n",
        "freq = calculate_frequency(sex)\n",
        "display_frequency(freq)\n",
        "print(as_list_of_tuples(freq))\n"
      ],
      "metadata": {
        "colab": {
          "base_uri": "https://localhost:8080/"
        },
        "id": "M8tQ9q8xeT5C",
        "outputId": "1c7aa08e-5663-4605-e596-c8fe7ac1e2d1"
      },
      "execution_count": 2,
      "outputs": [
        {
          "output_type": "stream",
          "name": "stdout",
          "text": [
            "m: 4\n",
            "f: 3\n",
            "[('m', 4), ('f', 3)]\n"
          ]
        }
      ]
    },
    {
      "cell_type": "code",
      "source": [],
      "metadata": {
        "id": "kpyNx_1CrY6F"
      },
      "execution_count": null,
      "outputs": []
    }
  ]
}